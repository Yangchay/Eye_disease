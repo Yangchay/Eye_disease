{
 "cells": [
  {
   "cell_type": "code",
   "execution_count": 2,
   "id": "28ee0438",
   "metadata": {},
   "outputs": [],
   "source": [
    "# Step 1: Initial Imports and Setup (from model.ipynb)\n",
    "import pandas as pd\n",
    "import tensorflow as tf\n",
    "from tensorflow.keras import models, layers\n",
    "import matplotlib.pyplot as plt\n",
    "from tensorflow.keras.preprocessing.image import ImageDataGenerator\n",
    "from tensorflow.keras.callbacks import EarlyStopping\n",
    "import seaborn as sns\n",
    "from sklearn.metrics import classification_report, confusion_matrix\n",
    "import numpy as np\n",
    "# For inline plotting in notebooks\n",
    "# %matplotlib inline\n",
    "\n",
    "image_size = 150\n",
    "channels = 1 # Assuming grayscale images based on your flow_from_directory color_mode"
   ]
  },
  {
   "cell_type": "code",
   "execution_count": 3,
   "id": "2e33d3bb",
   "metadata": {},
   "outputs": [
    {
     "name": "stdout",
     "output_type": "stream",
     "text": [
      "Found 3372 images belonging to 4 classes.\n",
      "Found 419 images belonging to 4 classes.\n",
      "Found 426 images belonging to 4 classes.\n",
      "Class indices: {'cataract': 0, 'diabetic_retinopathy': 1, 'glaucoma': 2, 'normal': 3}\n",
      "Class names: ['cataract', 'diabetic_retinopathy', 'glaucoma', 'normal']\n"
     ]
    }
   ],
   "source": [
    "# Step 2: Data Preparation (from model.ipynb)\n",
    "# Data augmentation and loading for training\n",
    "training_data = ImageDataGenerator(\n",
    "    rescale = 1.0/255,\n",
    "    rotation_range = 10,\n",
    "    shear_range=0.1,\n",
    "    zoom_range = 0.1,\n",
    "    width_shift_range=0.1,\n",
    "    height_shift_range=0.1,\n",
    ")\n",
    "\n",
    "train_gen = training_data.flow_from_directory(\n",
    "    'Dataset_Split/train',\n",
    "    target_size = (image_size,image_size),\n",
    "    batch_size = 32,\n",
    "    class_mode = 'sparse',\n",
    "    color_mode = \"grayscale\",\n",
    ")\n",
    "\n",
    "# Data augmentation and loading for validation\n",
    "val_data = ImageDataGenerator(\n",
    "    rescale = 1.0 / 255,\n",
    "    rotation_range= 10,\n",
    ")\n",
    "\n",
    "val_gen = val_data.flow_from_directory(\n",
    "    'Dataset_Split/val',\n",
    "    target_size=(image_size,image_size),\n",
    "    batch_size=32,\n",
    "    class_mode='sparse',\n",
    "    color_mode = \"grayscale\",\n",
    ")\n",
    "\n",
    "# Data augmentation and loading for testing\n",
    "test_data = ImageDataGenerator(\n",
    "    rescale=1.0/255,\n",
    "    rotation_range=10\n",
    ")\n",
    "test_gen = test_data.flow_from_directory(\n",
    "    'Dataset_Split/test',\n",
    "    target_size=(image_size, image_size),\n",
    "    batch_size = 32,\n",
    "    class_mode='sparse',\n",
    "    color_mode = \"grayscale\",\n",
    ")\n",
    "\n",
    "print(\"Class indices:\", train_gen.class_indices)\n",
    "\n",
    "class_names = list(train_gen.class_indices.keys())\n",
    "print(\"Class names:\", class_names)"
   ]
  },
  {
   "cell_type": "code",
   "execution_count": 4,
   "id": "775e1edb",
   "metadata": {},
   "outputs": [],
   "source": [
    "# Step 3: Build Model (from model.ipynb)\n",
    "input_shape = (image_size, image_size, channels)\n",
    "# Determine the number of classes from your training generator\n",
    "class_labels = len(train_gen.class_indices)\n",
    "\n",
    "model = models.Sequential([\n",
    "    layers.InputLayer(input_shape = input_shape),\n",
    "    # First convolutional block\n",
    "    layers.Conv2D(32,(3,3), activation = 'relu', input_shape = input_shape),\n",
    "    layers.MaxPooling2D((2,2)),\n",
    "    # Second convolutional block\n",
    "    layers.Conv2D(64, kernel_size = (3,3), activation = 'relu'),\n",
    "    layers.MaxPooling2D((2,2)),\n",
    "    # Third convolutional block\n",
    "    layers.Conv2D(64,(3,3), activation='relu'),\n",
    "    layers.MaxPooling2D((2,2)),\n",
    "    # Fourth convolutional block\n",
    "    layers.Conv2D(64,(3,3),activation='relu'),\n",
    "    layers.MaxPooling2D((2,2)),\n",
    "    # Flatten layer to transition from convolutional to dense layers\n",
    "    layers.Flatten(),\n",
    "    # Dense hidden layer\n",
    "    layers.Dense(64, activation= 'relu'),\n",
    "    # Output layer\n",
    "    layers.Dense(class_labels, activation='softmax'),\n",
    "])"
   ]
  },
  {
   "cell_type": "code",
   "execution_count": 6,
   "id": "e9ec79ac",
   "metadata": {},
   "outputs": [
    {
     "data": {
      "text/html": [
       "<pre style=\"white-space:pre;overflow-x:auto;line-height:normal;font-family:Menlo,'DejaVu Sans Mono',consolas,'Courier New',monospace\"><span style=\"font-weight: bold\">Model: \"sequential_1\"</span>\n",
       "</pre>\n"
      ],
      "text/plain": [
       "\u001b[1mModel: \"sequential_1\"\u001b[0m\n"
      ]
     },
     "metadata": {},
     "output_type": "display_data"
    },
    {
     "data": {
      "text/html": [
       "<pre style=\"white-space:pre;overflow-x:auto;line-height:normal;font-family:Menlo,'DejaVu Sans Mono',consolas,'Courier New',monospace\">┏━━━━━━━━━━━━━━━━━━━━━━━━━━━━━━━━━┳━━━━━━━━━━━━━━━━━━━━━━━━┳━━━━━━━━━━━━━━━┓\n",
       "┃<span style=\"font-weight: bold\"> Layer (type)                    </span>┃<span style=\"font-weight: bold\"> Output Shape           </span>┃<span style=\"font-weight: bold\">       Param # </span>┃\n",
       "┡━━━━━━━━━━━━━━━━━━━━━━━━━━━━━━━━━╇━━━━━━━━━━━━━━━━━━━━━━━━╇━━━━━━━━━━━━━━━┩\n",
       "│ conv2d_4 (<span style=\"color: #0087ff; text-decoration-color: #0087ff\">Conv2D</span>)               │ (<span style=\"color: #00d7ff; text-decoration-color: #00d7ff\">None</span>, <span style=\"color: #00af00; text-decoration-color: #00af00\">148</span>, <span style=\"color: #00af00; text-decoration-color: #00af00\">148</span>, <span style=\"color: #00af00; text-decoration-color: #00af00\">32</span>)   │           <span style=\"color: #00af00; text-decoration-color: #00af00\">320</span> │\n",
       "├─────────────────────────────────┼────────────────────────┼───────────────┤\n",
       "│ max_pooling2d_4 (<span style=\"color: #0087ff; text-decoration-color: #0087ff\">MaxPooling2D</span>)  │ (<span style=\"color: #00d7ff; text-decoration-color: #00d7ff\">None</span>, <span style=\"color: #00af00; text-decoration-color: #00af00\">74</span>, <span style=\"color: #00af00; text-decoration-color: #00af00\">74</span>, <span style=\"color: #00af00; text-decoration-color: #00af00\">32</span>)     │             <span style=\"color: #00af00; text-decoration-color: #00af00\">0</span> │\n",
       "├─────────────────────────────────┼────────────────────────┼───────────────┤\n",
       "│ conv2d_5 (<span style=\"color: #0087ff; text-decoration-color: #0087ff\">Conv2D</span>)               │ (<span style=\"color: #00d7ff; text-decoration-color: #00d7ff\">None</span>, <span style=\"color: #00af00; text-decoration-color: #00af00\">72</span>, <span style=\"color: #00af00; text-decoration-color: #00af00\">72</span>, <span style=\"color: #00af00; text-decoration-color: #00af00\">64</span>)     │        <span style=\"color: #00af00; text-decoration-color: #00af00\">18,496</span> │\n",
       "├─────────────────────────────────┼────────────────────────┼───────────────┤\n",
       "│ max_pooling2d_5 (<span style=\"color: #0087ff; text-decoration-color: #0087ff\">MaxPooling2D</span>)  │ (<span style=\"color: #00d7ff; text-decoration-color: #00d7ff\">None</span>, <span style=\"color: #00af00; text-decoration-color: #00af00\">36</span>, <span style=\"color: #00af00; text-decoration-color: #00af00\">36</span>, <span style=\"color: #00af00; text-decoration-color: #00af00\">64</span>)     │             <span style=\"color: #00af00; text-decoration-color: #00af00\">0</span> │\n",
       "├─────────────────────────────────┼────────────────────────┼───────────────┤\n",
       "│ conv2d_6 (<span style=\"color: #0087ff; text-decoration-color: #0087ff\">Conv2D</span>)               │ (<span style=\"color: #00d7ff; text-decoration-color: #00d7ff\">None</span>, <span style=\"color: #00af00; text-decoration-color: #00af00\">34</span>, <span style=\"color: #00af00; text-decoration-color: #00af00\">34</span>, <span style=\"color: #00af00; text-decoration-color: #00af00\">64</span>)     │        <span style=\"color: #00af00; text-decoration-color: #00af00\">36,928</span> │\n",
       "├─────────────────────────────────┼────────────────────────┼───────────────┤\n",
       "│ max_pooling2d_6 (<span style=\"color: #0087ff; text-decoration-color: #0087ff\">MaxPooling2D</span>)  │ (<span style=\"color: #00d7ff; text-decoration-color: #00d7ff\">None</span>, <span style=\"color: #00af00; text-decoration-color: #00af00\">17</span>, <span style=\"color: #00af00; text-decoration-color: #00af00\">17</span>, <span style=\"color: #00af00; text-decoration-color: #00af00\">64</span>)     │             <span style=\"color: #00af00; text-decoration-color: #00af00\">0</span> │\n",
       "├─────────────────────────────────┼────────────────────────┼───────────────┤\n",
       "│ conv2d_7 (<span style=\"color: #0087ff; text-decoration-color: #0087ff\">Conv2D</span>)               │ (<span style=\"color: #00d7ff; text-decoration-color: #00d7ff\">None</span>, <span style=\"color: #00af00; text-decoration-color: #00af00\">15</span>, <span style=\"color: #00af00; text-decoration-color: #00af00\">15</span>, <span style=\"color: #00af00; text-decoration-color: #00af00\">64</span>)     │        <span style=\"color: #00af00; text-decoration-color: #00af00\">36,928</span> │\n",
       "├─────────────────────────────────┼────────────────────────┼───────────────┤\n",
       "│ max_pooling2d_7 (<span style=\"color: #0087ff; text-decoration-color: #0087ff\">MaxPooling2D</span>)  │ (<span style=\"color: #00d7ff; text-decoration-color: #00d7ff\">None</span>, <span style=\"color: #00af00; text-decoration-color: #00af00\">7</span>, <span style=\"color: #00af00; text-decoration-color: #00af00\">7</span>, <span style=\"color: #00af00; text-decoration-color: #00af00\">64</span>)       │             <span style=\"color: #00af00; text-decoration-color: #00af00\">0</span> │\n",
       "├─────────────────────────────────┼────────────────────────┼───────────────┤\n",
       "│ flatten_1 (<span style=\"color: #0087ff; text-decoration-color: #0087ff\">Flatten</span>)             │ (<span style=\"color: #00d7ff; text-decoration-color: #00d7ff\">None</span>, <span style=\"color: #00af00; text-decoration-color: #00af00\">3136</span>)           │             <span style=\"color: #00af00; text-decoration-color: #00af00\">0</span> │\n",
       "├─────────────────────────────────┼────────────────────────┼───────────────┤\n",
       "│ dense_2 (<span style=\"color: #0087ff; text-decoration-color: #0087ff\">Dense</span>)                 │ (<span style=\"color: #00d7ff; text-decoration-color: #00d7ff\">None</span>, <span style=\"color: #00af00; text-decoration-color: #00af00\">64</span>)             │       <span style=\"color: #00af00; text-decoration-color: #00af00\">200,768</span> │\n",
       "├─────────────────────────────────┼────────────────────────┼───────────────┤\n",
       "│ dense_3 (<span style=\"color: #0087ff; text-decoration-color: #0087ff\">Dense</span>)                 │ (<span style=\"color: #00d7ff; text-decoration-color: #00d7ff\">None</span>, <span style=\"color: #00af00; text-decoration-color: #00af00\">4</span>)              │           <span style=\"color: #00af00; text-decoration-color: #00af00\">260</span> │\n",
       "└─────────────────────────────────┴────────────────────────┴───────────────┘\n",
       "</pre>\n"
      ],
      "text/plain": [
       "┏━━━━━━━━━━━━━━━━━━━━━━━━━━━━━━━━━┳━━━━━━━━━━━━━━━━━━━━━━━━┳━━━━━━━━━━━━━━━┓\n",
       "┃\u001b[1m \u001b[0m\u001b[1mLayer (type)                   \u001b[0m\u001b[1m \u001b[0m┃\u001b[1m \u001b[0m\u001b[1mOutput Shape          \u001b[0m\u001b[1m \u001b[0m┃\u001b[1m \u001b[0m\u001b[1m      Param #\u001b[0m\u001b[1m \u001b[0m┃\n",
       "┡━━━━━━━━━━━━━━━━━━━━━━━━━━━━━━━━━╇━━━━━━━━━━━━━━━━━━━━━━━━╇━━━━━━━━━━━━━━━┩\n",
       "│ conv2d_4 (\u001b[38;5;33mConv2D\u001b[0m)               │ (\u001b[38;5;45mNone\u001b[0m, \u001b[38;5;34m148\u001b[0m, \u001b[38;5;34m148\u001b[0m, \u001b[38;5;34m32\u001b[0m)   │           \u001b[38;5;34m320\u001b[0m │\n",
       "├─────────────────────────────────┼────────────────────────┼───────────────┤\n",
       "│ max_pooling2d_4 (\u001b[38;5;33mMaxPooling2D\u001b[0m)  │ (\u001b[38;5;45mNone\u001b[0m, \u001b[38;5;34m74\u001b[0m, \u001b[38;5;34m74\u001b[0m, \u001b[38;5;34m32\u001b[0m)     │             \u001b[38;5;34m0\u001b[0m │\n",
       "├─────────────────────────────────┼────────────────────────┼───────────────┤\n",
       "│ conv2d_5 (\u001b[38;5;33mConv2D\u001b[0m)               │ (\u001b[38;5;45mNone\u001b[0m, \u001b[38;5;34m72\u001b[0m, \u001b[38;5;34m72\u001b[0m, \u001b[38;5;34m64\u001b[0m)     │        \u001b[38;5;34m18,496\u001b[0m │\n",
       "├─────────────────────────────────┼────────────────────────┼───────────────┤\n",
       "│ max_pooling2d_5 (\u001b[38;5;33mMaxPooling2D\u001b[0m)  │ (\u001b[38;5;45mNone\u001b[0m, \u001b[38;5;34m36\u001b[0m, \u001b[38;5;34m36\u001b[0m, \u001b[38;5;34m64\u001b[0m)     │             \u001b[38;5;34m0\u001b[0m │\n",
       "├─────────────────────────────────┼────────────────────────┼───────────────┤\n",
       "│ conv2d_6 (\u001b[38;5;33mConv2D\u001b[0m)               │ (\u001b[38;5;45mNone\u001b[0m, \u001b[38;5;34m34\u001b[0m, \u001b[38;5;34m34\u001b[0m, \u001b[38;5;34m64\u001b[0m)     │        \u001b[38;5;34m36,928\u001b[0m │\n",
       "├─────────────────────────────────┼────────────────────────┼───────────────┤\n",
       "│ max_pooling2d_6 (\u001b[38;5;33mMaxPooling2D\u001b[0m)  │ (\u001b[38;5;45mNone\u001b[0m, \u001b[38;5;34m17\u001b[0m, \u001b[38;5;34m17\u001b[0m, \u001b[38;5;34m64\u001b[0m)     │             \u001b[38;5;34m0\u001b[0m │\n",
       "├─────────────────────────────────┼────────────────────────┼───────────────┤\n",
       "│ conv2d_7 (\u001b[38;5;33mConv2D\u001b[0m)               │ (\u001b[38;5;45mNone\u001b[0m, \u001b[38;5;34m15\u001b[0m, \u001b[38;5;34m15\u001b[0m, \u001b[38;5;34m64\u001b[0m)     │        \u001b[38;5;34m36,928\u001b[0m │\n",
       "├─────────────────────────────────┼────────────────────────┼───────────────┤\n",
       "│ max_pooling2d_7 (\u001b[38;5;33mMaxPooling2D\u001b[0m)  │ (\u001b[38;5;45mNone\u001b[0m, \u001b[38;5;34m7\u001b[0m, \u001b[38;5;34m7\u001b[0m, \u001b[38;5;34m64\u001b[0m)       │             \u001b[38;5;34m0\u001b[0m │\n",
       "├─────────────────────────────────┼────────────────────────┼───────────────┤\n",
       "│ flatten_1 (\u001b[38;5;33mFlatten\u001b[0m)             │ (\u001b[38;5;45mNone\u001b[0m, \u001b[38;5;34m3136\u001b[0m)           │             \u001b[38;5;34m0\u001b[0m │\n",
       "├─────────────────────────────────┼────────────────────────┼───────────────┤\n",
       "│ dense_2 (\u001b[38;5;33mDense\u001b[0m)                 │ (\u001b[38;5;45mNone\u001b[0m, \u001b[38;5;34m64\u001b[0m)             │       \u001b[38;5;34m200,768\u001b[0m │\n",
       "├─────────────────────────────────┼────────────────────────┼───────────────┤\n",
       "│ dense_3 (\u001b[38;5;33mDense\u001b[0m)                 │ (\u001b[38;5;45mNone\u001b[0m, \u001b[38;5;34m4\u001b[0m)              │           \u001b[38;5;34m260\u001b[0m │\n",
       "└─────────────────────────────────┴────────────────────────┴───────────────┘\n"
      ]
     },
     "metadata": {},
     "output_type": "display_data"
    },
    {
     "data": {
      "text/html": [
       "<pre style=\"white-space:pre;overflow-x:auto;line-height:normal;font-family:Menlo,'DejaVu Sans Mono',consolas,'Courier New',monospace\"><span style=\"font-weight: bold\"> Total params: </span><span style=\"color: #00af00; text-decoration-color: #00af00\">293,700</span> (1.12 MB)\n",
       "</pre>\n"
      ],
      "text/plain": [
       "\u001b[1m Total params: \u001b[0m\u001b[38;5;34m293,700\u001b[0m (1.12 MB)\n"
      ]
     },
     "metadata": {},
     "output_type": "display_data"
    },
    {
     "data": {
      "text/html": [
       "<pre style=\"white-space:pre;overflow-x:auto;line-height:normal;font-family:Menlo,'DejaVu Sans Mono',consolas,'Courier New',monospace\"><span style=\"font-weight: bold\"> Trainable params: </span><span style=\"color: #00af00; text-decoration-color: #00af00\">293,700</span> (1.12 MB)\n",
       "</pre>\n"
      ],
      "text/plain": [
       "\u001b[1m Trainable params: \u001b[0m\u001b[38;5;34m293,700\u001b[0m (1.12 MB)\n"
      ]
     },
     "metadata": {},
     "output_type": "display_data"
    },
    {
     "data": {
      "text/html": [
       "<pre style=\"white-space:pre;overflow-x:auto;line-height:normal;font-family:Menlo,'DejaVu Sans Mono',consolas,'Courier New',monospace\"><span style=\"font-weight: bold\"> Non-trainable params: </span><span style=\"color: #00af00; text-decoration-color: #00af00\">0</span> (0.00 B)\n",
       "</pre>\n"
      ],
      "text/plain": [
       "\u001b[1m Non-trainable params: \u001b[0m\u001b[38;5;34m0\u001b[0m (0.00 B)\n"
      ]
     },
     "metadata": {},
     "output_type": "display_data"
    },
    {
     "name": "stdout",
     "output_type": "stream",
     "text": [
      "Number of validation batches: 14\n",
      "Number of training batches: 106\n"
     ]
    }
   ],
   "source": [
    "# Step 4: Model Summary and Compile (from model.ipynb)\n",
    "model.summary()\n",
    "\n",
    "model.compile(\n",
    "    optimizer='adam',\n",
    "    loss = tf.keras.losses.SparseCategoricalCrossentropy(from_logits=False),\n",
    "    metrics=['accuracy']\n",
    ")\n",
    "\n",
    "print(f\"Number of validation batches: {len(val_gen)}\")\n",
    "print(f\"Number of training batches: {len(train_gen)}\")"
   ]
  },
  {
   "cell_type": "code",
   "execution_count": 7,
   "id": "88726971",
   "metadata": {},
   "outputs": [
    {
     "name": "stdout",
     "output_type": "stream",
     "text": [
      "Receptive Field of the entire model: 46\n"
     ]
    }
   ],
   "source": [
    "# Step 5: Receptive Field Calculation (from Visualising_CNN.ipynb)\n",
    "# This function calculates the receptive field for a sequence of convolutional and pooling layers.\n",
    "# 'layers' is a list of tuples, where each tuple is (kernel_size, stride) for a layer.\n",
    "def compute_receptive_field(layers):\n",
    "    rf = 1 # Initial receptive field of the last layer (a single pixel neuron)\n",
    "    jump = 1 # How many pixels in the input correspond to a 1-pixel step in current layer\n",
    "    for k, s in reversed(layers):\n",
    "        rf = rf + (k - 1) * jump\n",
    "        jump = jump * s # updates the effective stride to account for this layer’s stride.\n",
    "    return rf\n",
    "\n",
    "# Define the layers of your 'model' for receptive field calculation.\n",
    "# Extract kernel sizes and strides from your model's Conv2D and MaxPooling2D layers.\n",
    "# Assuming your model layers are: Conv2D, MaxPool2D, Conv2D, MaxPool2D, Conv2D, MaxPool2D, Conv2D, MaxPool2D\n",
    "# Note: For simplicity, we are manually extracting these. A more robust solution might iterate\n",
    "# through model.layers and check their types.\n",
    "# (kernel_size, stride) for Conv2D, (pool_size, stride) for MaxPooling2D\n",
    "# For MaxPooling2D, pool_size is the kernel, and strides default to pool_size if not specified.\n",
    "# Your model has:\n",
    "# Conv2D(32, (3,3), stride=1) -> kernel=3, stride=1\n",
    "# MaxPooling2D((2,2)) -> kernel=2, stride=2 (default)\n",
    "# Conv2D(64, (3,3), stride=1) -> kernel=3, stride=1\n",
    "# MaxPooling2D((2,2)) -> kernel=2, stride=2 (default)\n",
    "# Conv2D(64, (3,3), stride=1) -> kernel=3, stride=1\n",
    "# MaxPooling2D((2,2)) -> kernel=2, stride=2 (default)\n",
    "# Conv2D(64, (3,3), stride=1) -> kernel=3, stride=1\n",
    "# MaxPooling2D((2,2)) -> kernel=2, stride=2 (default)\n",
    "\n",
    "# Layers for receptive field calculation (from output to input)\n",
    "# Last MaxPool2D: (2, 2)\n",
    "# Last Conv2D: (3, 1)\n",
    "# Third MaxPool2D: (2, 2)\n",
    "# Third Conv2D: (3, 1)\n",
    "# Second MaxPool2D: (2, 2)\n",
    "# Second Conv2D: (3, 1)\n",
    "# First MaxPool2D: (2, 2)\n",
    "# First Conv2D: (3, 1)\n",
    "\n",
    "# Reversing the order to go from output to input as required by the function\n",
    "# The function expects (kernel_size, stride)\n",
    "model_layers_for_rf = [\n",
    "    (2, 2), # Last MaxPooling2D\n",
    "    (3, 1), # Last Conv2D\n",
    "    (2, 2), # Third MaxPooling2D\n",
    "    (3, 1), # Third Conv2D\n",
    "    (2, 2), # Second MaxPooling2D\n",
    "    (3, 1), # Second Conv2D\n",
    "    (2, 2), # First MaxPooling2D\n",
    "    (3, 1)  # First Conv2D\n",
    "]\n",
    "\n",
    "print(\"Receptive Field of the entire model:\", compute_receptive_field(model_layers_for_rf))"
   ]
  },
  {
   "cell_type": "code",
   "execution_count": 8,
   "id": "b12fcac4",
   "metadata": {},
   "outputs": [
    {
     "data": {
      "image/png": "[encoded data removed]",
      "text/plain": [
       "<Figure size 1200x1200 with 32 Axes>"
      ]
     },
     "metadata": {},
     "output_type": "display_data"
    }
   ],
   "source": [
    "# Step 6: Filter Visualization (adapted from Visualising_CNN.ipynb)\n",
    "# This section visualizes the filters learned by the first convolutional layer of your model.\n",
    "# Note: For meaningful visualization, the model should ideally be trained.\n",
    "# If run before training, these will be visualizations of randomly initialized filters.\n",
    "\n",
    "# Get the first convolutional layer. Assuming it's the second layer in the sequential model\n",
    "# (InputLayer is first, then Conv2D)\n",
    "# You can inspect model.layers to confirm the index.\n",
    "# For your model, model.layers[1] is the first Conv2D layer.\n",
    "first_conv_layer = None\n",
    "for layer in model.layers:\n",
    "    if isinstance(layer, tf.keras.layers.Conv2D):\n",
    "        first_conv_layer = layer\n",
    "        break\n",
    "\n",
    "if first_conv_layer:\n",
    "    first_conv_layer_weights = first_conv_layer.get_weights()[0] # Weights are the first element\n",
    "\n",
    "    # Normalize filter values for visualization (min-max scaling)\n",
    "    min_val, max_val = first_conv_layer_weights.min(), first_conv_layer_weights.max()\n",
    "    # Avoid division by zero if all weights are the same (e.g., all zeros)\n",
    "    if (max_val - min_val) != 0:\n",
    "        first_conv_layer_weights = (first_conv_layer_weights - min_val) / (max_val - min_val)\n",
    "    else:\n",
    "        # If all values are the same, make them 0 or 1 for visualization\n",
    "        first_conv_layer_weights = np.zeros_like(first_conv_layer_weights) if min_val == 0 else np.ones_like(first_conv_layer_weights)\n",
    "\n",
    "\n",
    "    # Plot the filters\n",
    "    num_filters = first_conv_layer_weights.shape[3]\n",
    "    # Calculate grid dimensions for plotting\n",
    "    grid_size = int(np.ceil(np.sqrt(num_filters)))\n",
    "\n",
    "    plt.figure(figsize=(grid_size * 2, grid_size * 2)) # Adjust figure size dynamically\n",
    "    for i in range(num_filters):\n",
    "        plt.subplot(grid_size, grid_size, i + 1)\n",
    "        # For grayscale input, the filter will have shape (kernel_height, kernel_width, 1, num_filters)\n",
    "        # We need to squeeze the channel dimension for imshow\n",
    "        plt.imshow(first_conv_layer_weights[:, :, 0, i], cmap='gray') # Use 'gray' colormap for single channel\n",
    "        plt.axis('off')\n",
    "        plt.title(f'Filter {i+1}')\n",
    "    plt.suptitle('Filters in the First Convolutional Layer (Before Training)')\n",
    "    plt.show()\n",
    "else:\n",
    "    print(\"No Conv2D layer found in the model for filter visualization.\")"
   ]
  },
  {
   "cell_type": "code",
   "execution_count": 10,
   "id": "ee95d0be",
   "metadata": {},
   "outputs": [
    {
     "name": "stdout",
     "output_type": "stream",
     "text": [
      "\n",
      "[INFO] Training the model...\n",
      "Epoch 1/30\n",
      "\u001b[1m106/106\u001b[0m \u001b[32m━━━━━━━━━━━━━━━━━━━━\u001b[0m\u001b[37m\u001b[0m \u001b[1m41s\u001b[0m 388ms/step - accuracy: 0.6919 - loss: 0.7270 - val_accuracy: 0.7112 - val_loss: 0.7467\n",
      "Epoch 2/30\n",
      "\u001b[1m106/106\u001b[0m \u001b[32m━━━━━━━━━━━━━━━━━━━━\u001b[0m\u001b[37m\u001b[0m \u001b[1m40s\u001b[0m 381ms/step - accuracy: 0.7176 - loss: 0.6608 - val_accuracy: 0.7685 - val_loss: 0.5884\n",
      "Epoch 3/30\n",
      "\u001b[1m106/106\u001b[0m \u001b[32m━━━━━━━━━━━━━━━━━━━━\u001b[0m\u001b[37m\u001b[0m \u001b[1m40s\u001b[0m 378ms/step - accuracy: 0.7229 - loss: 0.6666 - val_accuracy: 0.7327 - val_loss: 0.6778\n",
      "Epoch 4/30\n",
      "\u001b[1m106/106\u001b[0m \u001b[32m━━━━━━━━━━━━━━━━━━━━\u001b[0m\u001b[37m\u001b[0m \u001b[1m41s\u001b[0m 385ms/step - accuracy: 0.7483 - loss: 0.6085 - val_accuracy: 0.7470 - val_loss: 0.6838\n",
      "Epoch 5/30\n",
      "\u001b[1m106/106\u001b[0m \u001b[32m━━━━━━━━━━━━━━━━━━━━\u001b[0m\u001b[37m\u001b[0m \u001b[1m40s\u001b[0m 377ms/step - accuracy: 0.7513 - loss: 0.6102 - val_accuracy: 0.7947 - val_loss: 0.5314\n",
      "Epoch 6/30\n",
      "\u001b[1m106/106\u001b[0m \u001b[32m━━━━━━━━━━━━━━━━━━━━\u001b[0m\u001b[37m\u001b[0m \u001b[1m40s\u001b[0m 378ms/step - accuracy: 0.7861 - loss: 0.5537 - val_accuracy: 0.7924 - val_loss: 0.4995\n",
      "Epoch 7/30\n",
      "\u001b[1m106/106\u001b[0m \u001b[32m━━━━━━━━━━━━━━━━━━━━\u001b[0m\u001b[37m\u001b[0m \u001b[1m40s\u001b[0m 376ms/step - accuracy: 0.7936 - loss: 0.5237 - val_accuracy: 0.7828 - val_loss: 0.5051\n",
      "Epoch 8/30\n",
      "\u001b[1m106/106\u001b[0m \u001b[32m━━━━━━━━━━━━━━━━━━━━\u001b[0m\u001b[37m\u001b[0m \u001b[1m40s\u001b[0m 379ms/step - accuracy: 0.7778 - loss: 0.5415 - val_accuracy: 0.7780 - val_loss: 0.5516\n",
      "Epoch 9/30\n",
      "\u001b[1m106/106\u001b[0m \u001b[32m━━━━━━━━━━━━━━━━━━━━\u001b[0m\u001b[37m\u001b[0m \u001b[1m40s\u001b[0m 375ms/step - accuracy: 0.8008 - loss: 0.5120 - val_accuracy: 0.8258 - val_loss: 0.4470\n",
      "Epoch 10/30\n",
      "\u001b[1m106/106\u001b[0m \u001b[32m━━━━━━━━━━━━━━━━━━━━\u001b[0m\u001b[37m\u001b[0m \u001b[1m40s\u001b[0m 380ms/step - accuracy: 0.8143 - loss: 0.4678 - val_accuracy: 0.7852 - val_loss: 0.5260\n",
      "Epoch 11/30\n",
      "\u001b[1m106/106\u001b[0m \u001b[32m━━━━━━━━━━━━━━━━━━━━\u001b[0m\u001b[37m\u001b[0m \u001b[1m40s\u001b[0m 379ms/step - accuracy: 0.8008 - loss: 0.5110 - val_accuracy: 0.7900 - val_loss: 0.4952\n",
      "Epoch 12/30\n",
      "\u001b[1m106/106\u001b[0m \u001b[32m━━━━━━━━━━━━━━━━━━━━\u001b[0m\u001b[37m\u001b[0m \u001b[1m40s\u001b[0m 379ms/step - accuracy: 0.8109 - loss: 0.4768 - val_accuracy: 0.8258 - val_loss: 0.4522\n",
      "Epoch 13/30\n",
      "\u001b[1m106/106\u001b[0m \u001b[32m━━━━━━━━━━━━━━━━━━━━\u001b[0m\u001b[37m\u001b[0m \u001b[1m40s\u001b[0m 374ms/step - accuracy: 0.8381 - loss: 0.4261 - val_accuracy: 0.8449 - val_loss: 0.4249\n",
      "Epoch 14/30\n",
      "\u001b[1m106/106\u001b[0m \u001b[32m━━━━━━━━━━━━━━━━━━━━\u001b[0m\u001b[37m\u001b[0m \u001b[1m40s\u001b[0m 376ms/step - accuracy: 0.8370 - loss: 0.4186 - val_accuracy: 0.8258 - val_loss: 0.4464\n",
      "Epoch 15/30\n",
      "\u001b[1m106/106\u001b[0m \u001b[32m━━━━━━━━━━━━━━━━━━━━\u001b[0m\u001b[37m\u001b[0m \u001b[1m41s\u001b[0m 384ms/step - accuracy: 0.8221 - loss: 0.4412 - val_accuracy: 0.8473 - val_loss: 0.4292\n",
      "Epoch 16/30\n",
      "\u001b[1m106/106\u001b[0m \u001b[32m━━━━━━━━━━━━━━━━━━━━\u001b[0m\u001b[37m\u001b[0m \u001b[1m40s\u001b[0m 373ms/step - accuracy: 0.8340 - loss: 0.4288 - val_accuracy: 0.8258 - val_loss: 0.4791\n",
      "Epoch 17/30\n",
      "\u001b[1m106/106\u001b[0m \u001b[32m━━━━━━━━━━━━━━━━━━━━\u001b[0m\u001b[37m\u001b[0m \u001b[1m41s\u001b[0m 384ms/step - accuracy: 0.8237 - loss: 0.4192 - val_accuracy: 0.8449 - val_loss: 0.4023\n",
      "Epoch 18/30\n",
      "\u001b[1m106/106\u001b[0m \u001b[32m━━━━━━━━━━━━━━━━━━━━\u001b[0m\u001b[37m\u001b[0m \u001b[1m40s\u001b[0m 372ms/step - accuracy: 0.8340 - loss: 0.4252 - val_accuracy: 0.7876 - val_loss: 0.5549\n",
      "Epoch 19/30\n",
      "\u001b[1m106/106\u001b[0m \u001b[32m━━━━━━━━━━━━━━━━━━━━\u001b[0m\u001b[37m\u001b[0m \u001b[1m41s\u001b[0m 383ms/step - accuracy: 0.8350 - loss: 0.4104 - val_accuracy: 0.8449 - val_loss: 0.4181\n",
      "Epoch 20/30\n",
      "\u001b[1m106/106\u001b[0m \u001b[32m━━━━━━━━━━━━━━━━━━━━\u001b[0m\u001b[37m\u001b[0m \u001b[1m40s\u001b[0m 379ms/step - accuracy: 0.8383 - loss: 0.3944 - val_accuracy: 0.8043 - val_loss: 0.4653\n",
      "Epoch 21/30\n",
      "\u001b[1m106/106\u001b[0m \u001b[32m━━━━━━━━━━━━━━━━━━━━\u001b[0m\u001b[37m\u001b[0m \u001b[1m40s\u001b[0m 380ms/step - accuracy: 0.8540 - loss: 0.3764 - val_accuracy: 0.8640 - val_loss: 0.3721\n",
      "Epoch 22/30\n",
      "\u001b[1m106/106\u001b[0m \u001b[32m━━━━━━━━━━━━━━━━━━━━\u001b[0m\u001b[37m\u001b[0m \u001b[1m40s\u001b[0m 377ms/step - accuracy: 0.8500 - loss: 0.3832 - val_accuracy: 0.8425 - val_loss: 0.3997\n",
      "Epoch 23/30\n",
      "\u001b[1m106/106\u001b[0m \u001b[32m━━━━━━━━━━━━━━━━━━━━\u001b[0m\u001b[37m\u001b[0m \u001b[1m39s\u001b[0m 367ms/step - accuracy: 0.8370 - loss: 0.3937 - val_accuracy: 0.8568 - val_loss: 0.4290\n",
      "Epoch 24/30\n",
      "\u001b[1m106/106\u001b[0m \u001b[32m━━━━━━━━━━━━━━━━━━━━\u001b[0m\u001b[37m\u001b[0m \u001b[1m40s\u001b[0m 377ms/step - accuracy: 0.8384 - loss: 0.3889 - val_accuracy: 0.8783 - val_loss: 0.3692\n",
      "Epoch 25/30\n",
      "\u001b[1m106/106\u001b[0m \u001b[32m━━━━━━━━━━━━━━━━━━━━\u001b[0m\u001b[37m\u001b[0m \u001b[1m40s\u001b[0m 373ms/step - accuracy: 0.8504 - loss: 0.3629 - val_accuracy: 0.8568 - val_loss: 0.3901\n",
      "Epoch 26/30\n",
      "\u001b[1m106/106\u001b[0m \u001b[32m━━━━━━━━━━━━━━━━━━━━\u001b[0m\u001b[37m\u001b[0m \u001b[1m41s\u001b[0m 383ms/step - accuracy: 0.8565 - loss: 0.3854 - val_accuracy: 0.8425 - val_loss: 0.4201\n",
      "Epoch 27/30\n",
      "\u001b[1m106/106\u001b[0m \u001b[32m━━━━━━━━━━━━━━━━━━━━\u001b[0m\u001b[37m\u001b[0m \u001b[1m40s\u001b[0m 381ms/step - accuracy: 0.8640 - loss: 0.3448 - val_accuracy: 0.8520 - val_loss: 0.3690\n",
      "Epoch 28/30\n",
      "\u001b[1m106/106\u001b[0m \u001b[32m━━━━━━━━━━━━━━━━━━━━\u001b[0m\u001b[37m\u001b[0m \u001b[1m41s\u001b[0m 381ms/step - accuracy: 0.8710 - loss: 0.3286 - val_accuracy: 0.8544 - val_loss: 0.3978\n",
      "Epoch 29/30\n",
      "\u001b[1m106/106\u001b[0m \u001b[32m━━━━━━━━━━━━━━━━━━━━\u001b[0m\u001b[37m\u001b[0m \u001b[1m40s\u001b[0m 379ms/step - accuracy: 0.8555 - loss: 0.3530 - val_accuracy: 0.8210 - val_loss: 0.4441\n",
      "Epoch 30/30\n",
      "\u001b[1m106/106\u001b[0m \u001b[32m━━━━━━━━━━━━━━━━━━━━\u001b[0m\u001b[37m\u001b[0m \u001b[1m40s\u001b[0m 374ms/step - accuracy: 0.8594 - loss: 0.3555 - val_accuracy: 0.8473 - val_loss: 0.4161\n"
     ]
    }
   ],
   "source": [
    "# Step 7: Model Training (from model.ipynb)\n",
    "print(\"\\n[INFO] Training the model...\")\n",
    "history = model.fit(\n",
    "    train_gen,\n",
    "    epochs=30,\n",
    "    validation_data=val_gen,\n",
    "    callbacks= [\n",
    "        EarlyStopping(\n",
    "            monitor='val_loss',\n",
    "            patience=5,\n",
    "            restore_best_weights=True\n",
    "        )\n",
    "    ]\n",
    ")"
   ]
  },
  {
   "cell_type": "code",
   "execution_count": 11,
   "id": "31b5057d",
   "metadata": {},
   "outputs": [
    {
     "name": "stdout",
     "output_type": "stream",
     "text": [
      "\n",
      "Model saved as 'medical_image_model.keras'\n"
     ]
    }
   ],
   "source": [
    "# Step 8: Model Saving (from model.ipynb)\n",
    "model.save('saved_model/medical_image_model.keras')\n",
    "print(\"\\nModel saved as 'medical_image_model.keras'\")"
   ]
  },
  {
   "cell_type": "code",
   "execution_count": 12,
   "id": "a2d4b8d3",
   "metadata": {},
   "outputs": [
    {
     "name": "stdout",
     "output_type": "stream",
     "text": [
      "\n",
      "[INFO] evaluating the model...\n",
      "\u001b[1m14/14\u001b[0m \u001b[32m━━━━━━━━━━━━━━━━━━━━\u001b[0m\u001b[37m\u001b[0m \u001b[1m4s\u001b[0m 254ms/step\n"
     ]
    },
    {
     "data": {
      "image/png": "[encoded data removed]",
      "text/plain": [
       "<Figure size 1000x1000 with 2 Axes>"
      ]
     },
     "metadata": {},
     "output_type": "display_data"
    },
    {
     "name": "stdout",
     "output_type": "stream",
     "text": [
      "\n",
      "Classification Report:\n",
      "                      precision    recall  f1-score   support\n",
      "\n",
      "            cataract       0.23      0.25      0.24       105\n",
      "diabetic_retinopathy       0.24      0.23      0.24       111\n",
      "            glaucoma       0.25      0.24      0.24       102\n",
      "              normal       0.23      0.23      0.23       108\n",
      "\n",
      "            accuracy                           0.24       426\n",
      "           macro avg       0.24      0.24      0.24       426\n",
      "        weighted avg       0.24      0.24      0.24       426\n",
      "\n"
     ]
    }
   ],
   "source": [
    "# Step 9: Evaluation and Confusion Matrix (from model.ipynb)\n",
    "print(\"\\n[INFO] evaluating the model...\")\n",
    "test_gen.reset() # Reset the test generator to ensure evaluation starts from the beginning\n",
    "predIdxs = model.predict(test_gen, steps = len(test_gen))\n",
    "predIdxs = np.argmax(predIdxs, axis=1) # Get the predicted class indices\n",
    "\n",
    "# Generate confusion matrix\n",
    "matrix = confusion_matrix(test_gen.classes, predIdxs)\n",
    "plt.figure(figsize=(10,10))\n",
    "sns.heatmap(matrix, annot=True, cbar=True, fmt='d', cmap='Blues',\n",
    "            xticklabels=class_names, yticklabels=class_names)\n",
    "plt.ylabel('True Label')\n",
    "plt.xlabel('Predicted Label')\n",
    "plt.title('Confusion Matrix')\n",
    "plt.show()\n",
    "\n",
    "# Generate classification report\n",
    "print(\"\\nClassification Report:\")\n",
    "print(classification_report(test_gen.classes, predIdxs, target_names=class_names))"
   ]
  }
 ],
 "metadata": {
  "kernelspec": {
   "display_name": "venv",
   "language": "python",
   "name": "python3"
  },
  "language_info": {
   "codemirror_mode": {
    "name": "ipython",
    "version": 3
   },
   "file_extension": ".py",
   "mimetype": "text/x-python",
   "name": "python",
   "nbconvert_exporter": "python",
   "pygments_lexer": "ipython3",
   "version": "3.12.9"
  }
 },
 "nbformat": 4,
 "nbformat_minor": 5
}
